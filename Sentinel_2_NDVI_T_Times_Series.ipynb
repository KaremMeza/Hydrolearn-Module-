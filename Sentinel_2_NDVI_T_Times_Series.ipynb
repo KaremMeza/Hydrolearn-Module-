{
  "nbformat": 4,
  "nbformat_minor": 5,
  "metadata": {
    "kernelspec": {
      "display_name": "Python 3",
      "language": "python",
      "name": "python3"
    },
    "language_info": {
      "codemirror_mode": {
        "name": "ipython",
        "version": 3
      },
      "file_extension": ".py",
      "mimetype": "text/x-python",
      "name": "python",
      "nbconvert_exporter": "python",
      "pygments_lexer": "ipython3",
      "version": "3.8.8"
    },
    "colab": {
      "name": "Sentinel -2 NDVI_T_Times_Series.ipynb",
      "provenance": [],
      "include_colab_link": true
    }
  },
  "cells": [
    {
      "cell_type": "markdown",
      "metadata": {
        "id": "view-in-github",
        "colab_type": "text"
      },
      "source": [
        "<a href=\"https://colab.research.google.com/github/KaremMeza/Hydrolearn-Module-/blob/main/Sentinel_2_NDVI_T_Times_Series.ipynb\" target=\"_parent\"><img src=\"https://colab.research.google.com/assets/colab-badge.svg\" alt=\"Open In Colab\"/></a>"
      ]
    },
    {
      "cell_type": "markdown",
      "metadata": {
        "id": "9435bbac"
      },
      "source": [
        "# Normalized Difference Vegetation Index and Thermal Band - Time Series \n",
        "# Modena"
      ],
      "id": "9435bbac"
    },
    {
      "cell_type": "markdown",
      "metadata": {
        "id": "04ff8e7a-b216-466b-abe3-5c35c969d751"
      },
      "source": [
        "### SATELLITE: Sentinel-2 MSI: MultiSpectral Instrument, Level-2A"
      ],
      "id": "04ff8e7a-b216-466b-abe3-5c35c969d751"
    },
    {
      "cell_type": "markdown",
      "metadata": {
        "id": "bc87d731-99fd-4fdf-a6c7-b9778403eeff"
      },
      "source": [
        "##  Packages"
      ],
      "id": "bc87d731-99fd-4fdf-a6c7-b9778403eeff"
    },
    {
      "cell_type": "markdown",
      "metadata": {
        "id": "aaaed08f-0053-49dd-97c9-358df91f973e"
      },
      "source": [
        "###  geemap"
      ],
      "id": "aaaed08f-0053-49dd-97c9-358df91f973e"
    },
    {
      "cell_type": "markdown",
      "metadata": {
        "id": "c0bbc441-28b7-4553-a145-ab58986fa06e"
      },
      "source": [
        "The geemap is a Python package for interactive mapping with Google Earth Engine (GEE), which is a cloud computing platform with a multi-petabyte catalog of satellite imagery and geospatial datasets. During the past few years, GEE has become very popular in the geospatial community and it has empowered numerous environmental applications at local, regional, and global scales. GEE provides both JavaScript and Python APIs for making computational requests to the Earth Engine servers. Compared with the comprehensive documentation and interactive IDE (i.e., GEE JavaScript Code Editor) of the GEE JavaScript API, the GEE Python API has relatively little documentation and limited functionality for visualizing results interactively. The geemap Python package was created to fill this gap. It is built upon ipyleaflet and ipywidgets, and enables users to analyze and visualize Earth Engine datasets interactively within a Jupyter-based environment (https://github.com/giswqs/geemap) ."
      ],
      "id": "c0bbc441-28b7-4553-a145-ab58986fa06e"
    },
    {
      "cell_type": "markdown",
      "metadata": {
        "id": "e836d0cc-45a4-4496-b8cf-55cfb04b7135"
      },
      "source": [
        "###  eemont"
      ],
      "id": "e836d0cc-45a4-4496-b8cf-55cfb04b7135"
    },
    {
      "cell_type": "markdown",
      "metadata": {
        "id": "6b06b8ed-c25c-41a7-8ece-d3ce8996cb39"
      },
      "source": [
        "The eemont package extends the Google Earth Engine Python API with pre-processing and processing tools for the most used satellite platforms by adding utility methods for different Earth Engine Objects that are friendly with the Python method chaining (https://github.com/davemlz/eemont)."
      ],
      "id": "6b06b8ed-c25c-41a7-8ece-d3ce8996cb39"
    },
    {
      "cell_type": "markdown",
      "metadata": {
        "id": "c3fa874d-955f-4f76-a019-02d41ec81825"
      },
      "source": [
        "###  geetools"
      ],
      "id": "c3fa874d-955f-4f76-a019-02d41ec81825"
    },
    {
      "cell_type": "markdown",
      "metadata": {
        "id": "d7542f32-a7f3-4a85-be94-4ff57f23bbc7"
      },
      "source": [
        "The geetools contain functions and methods related to Google Earth Engine exclusively (https://github.com/gee-community/gee_tools)"
      ],
      "id": "d7542f32-a7f3-4a85-be94-4ff57f23bbc7"
    },
    {
      "cell_type": "markdown",
      "metadata": {
        "id": "7a9ad4ab-55ea-469f-83dd-3ee920cbc330"
      },
      "source": [
        "## 1.  Install and import the following packages "
      ],
      "id": "7a9ad4ab-55ea-469f-83dd-3ee920cbc330"
    },
    {
      "cell_type": "code",
      "metadata": {
        "id": "ocIWwcRmLrDl"
      },
      "source": [
        " !pip install geemap\n",
        " !pip install eemont\n",
        " !pip install geetools\n",
        " !pip install -U geemap\n",
        " !pip install -U eemont"
      ],
      "id": "ocIWwcRmLrDl",
      "execution_count": null,
      "outputs": []
    },
    {
      "cell_type": "code",
      "metadata": {
        "id": "69b981a5-9dcd-4573-b195-46881b2302a3"
      },
      "source": [
        "import pandas as pd\n",
        "import numpy as np\n",
        "import seaborn as sns\n",
        "import ee, eemont, geemap\n",
        "import geemap.colormaps as cm\n",
        "# import geetools for cloud /sadow discrimination\n",
        "from geetools import ui, cloud_mask"
      ],
      "id": "69b981a5-9dcd-4573-b195-46881b2302a3",
      "execution_count": null,
      "outputs": []
    },
    {
      "cell_type": "markdown",
      "metadata": {
        "id": "a470ecd9-41c1-4a81-8901-6bd2b98f886b"
      },
      "source": [
        "## 2. Create an interactive map"
      ],
      "id": "a470ecd9-41c1-4a81-8901-6bd2b98f886b"
    },
    {
      "cell_type": "code",
      "metadata": {
        "id": "f147ae91"
      },
      "source": [
        "# Create an interactive map\n",
        "Map = geemap.Map() # from ipygee"
      ],
      "id": "f147ae91",
      "execution_count": null,
      "outputs": []
    },
    {
      "cell_type": "markdown",
      "metadata": {
        "id": "5482200c-b559-42dd-b8ba-ab7c99a16412"
      },
      "source": [
        "## 3. Select Irrigation Area (Pivot)"
      ],
      "id": "5482200c-b559-42dd-b8ba-ab7c99a16412"
    },
    {
      "cell_type": "code",
      "metadata": {
        "colab": {
          "base_uri": "https://localhost:8080/"
        },
        "id": "2efa7bd4",
        "outputId": "4bca4080-e7d1-4bd9-bf79-e5dfb5d0be6c"
      },
      "source": [
        "# Center-pivot crops in Utah - Modena\n",
        "# Coordinates:-113.816479,37.754566\n",
        "# The number in buffer is the radius for the center pivot\n",
        "pivot=ee.Geometry.Point([-113.816479,37.754566 ]).buffer(400)\n",
        "pivot = ee.FeatureCollection([\n",
        "    ee.Feature(pivot,{'pivot':0})   \n",
        "])\n",
        "Map.addLayer(pivot,{},'pivot')\n",
        "Map.centerObject(pivot,16)\n",
        "Map"
      ],
      "id": "2efa7bd4",
      "execution_count": null,
      "outputs": [
        {
          "output_type": "execute_result",
          "data": {
            "text/html": [
              "<div style=\"width:100%;\"><div style=\"position:relative;width:100%;height:0;padding-bottom:60%;\"><span style=\"color:#565656\">Make this Notebook Trusted to load map: File -> Trust Notebook</span><iframe src=\"about:blank\" style=\"position:absolute;width:100%;height:100%;left:0;top:0;border:none !important;\" data-html=%3C%21DOCTYPE%20html%3E%0A%3Chead%3E%20%20%20%20%0A%20%20%20%20%3Cmeta%20http-equiv%3D%22content-type%22%20content%3D%22text/html%3B%20charset%3DUTF-8%22%20/%3E%0A%20%20%20%20%0A%20%20%20%20%20%20%20%20%3Cscript%3E%0A%20%20%20%20%20%20%20%20%20%20%20%20L_NO_TOUCH%20%3D%20false%3B%0A%20%20%20%20%20%20%20%20%20%20%20%20L_DISABLE_3D%20%3D%20false%3B%0A%20%20%20%20%20%20%20%20%3C/script%3E%0A%20%20%20%20%0A%20%20%20%20%3Cstyle%3Ehtml%2C%20body%20%7Bwidth%3A%20100%25%3Bheight%3A%20100%25%3Bmargin%3A%200%3Bpadding%3A%200%3B%7D%3C/style%3E%0A%20%20%20%20%3Cstyle%3E%23map%20%7Bposition%3Aabsolute%3Btop%3A0%3Bbottom%3A0%3Bright%3A0%3Bleft%3A0%3B%7D%3C/style%3E%0A%20%20%20%20%3Cscript%20src%3D%22https%3A//cdn.jsdelivr.net/npm/leaflet%401.6.0/dist/leaflet.js%22%3E%3C/script%3E%0A%20%20%20%20%3Cscript%20src%3D%22https%3A//code.jquery.com/jquery-1.12.4.min.js%22%3E%3C/script%3E%0A%20%20%20%20%3Cscript%20src%3D%22https%3A//maxcdn.bootstrapcdn.com/bootstrap/3.2.0/js/bootstrap.min.js%22%3E%3C/script%3E%0A%20%20%20%20%3Cscript%20src%3D%22https%3A//cdnjs.cloudflare.com/ajax/libs/Leaflet.awesome-markers/2.0.2/leaflet.awesome-markers.js%22%3E%3C/script%3E%0A%20%20%20%20%3Clink%20rel%3D%22stylesheet%22%20href%3D%22https%3A//cdn.jsdelivr.net/npm/leaflet%401.6.0/dist/leaflet.css%22/%3E%0A%20%20%20%20%3Clink%20rel%3D%22stylesheet%22%20href%3D%22https%3A//maxcdn.bootstrapcdn.com/bootstrap/3.2.0/css/bootstrap.min.css%22/%3E%0A%20%20%20%20%3Clink%20rel%3D%22stylesheet%22%20href%3D%22https%3A//maxcdn.bootstrapcdn.com/bootstrap/3.2.0/css/bootstrap-theme.min.css%22/%3E%0A%20%20%20%20%3Clink%20rel%3D%22stylesheet%22%20href%3D%22https%3A//maxcdn.bootstrapcdn.com/font-awesome/4.6.3/css/font-awesome.min.css%22/%3E%0A%20%20%20%20%3Clink%20rel%3D%22stylesheet%22%20href%3D%22https%3A//cdnjs.cloudflare.com/ajax/libs/Leaflet.awesome-markers/2.0.2/leaflet.awesome-markers.css%22/%3E%0A%20%20%20%20%3Clink%20rel%3D%22stylesheet%22%20href%3D%22https%3A//cdn.jsdelivr.net/gh/python-visualization/folium/folium/templates/leaflet.awesome.rotate.min.css%22/%3E%0A%20%20%20%20%0A%20%20%20%20%20%20%20%20%20%20%20%20%3Cmeta%20name%3D%22viewport%22%20content%3D%22width%3Ddevice-width%2C%0A%20%20%20%20%20%20%20%20%20%20%20%20%20%20%20%20initial-scale%3D1.0%2C%20maximum-scale%3D1.0%2C%20user-scalable%3Dno%22%20/%3E%0A%20%20%20%20%20%20%20%20%20%20%20%20%3Cstyle%3E%0A%20%20%20%20%20%20%20%20%20%20%20%20%20%20%20%20%23map_e82cb0592b1c4b20b4c467cc7c8e8206%20%7B%0A%20%20%20%20%20%20%20%20%20%20%20%20%20%20%20%20%20%20%20%20position%3A%20relative%3B%0A%20%20%20%20%20%20%20%20%20%20%20%20%20%20%20%20%20%20%20%20width%3A%20100.0%25%3B%0A%20%20%20%20%20%20%20%20%20%20%20%20%20%20%20%20%20%20%20%20height%3A%20100.0%25%3B%0A%20%20%20%20%20%20%20%20%20%20%20%20%20%20%20%20%20%20%20%20left%3A%200.0%25%3B%0A%20%20%20%20%20%20%20%20%20%20%20%20%20%20%20%20%20%20%20%20top%3A%200.0%25%3B%0A%20%20%20%20%20%20%20%20%20%20%20%20%20%20%20%20%7D%0A%20%20%20%20%20%20%20%20%20%20%20%20%3C/style%3E%0A%20%20%20%20%20%20%20%20%0A%20%20%20%20%3Cscript%20src%3D%22https%3A//cdnjs.cloudflare.com/ajax/libs/leaflet.fullscreen/1.4.2/Control.FullScreen.min.js%22%3E%3C/script%3E%0A%20%20%20%20%3Clink%20rel%3D%22stylesheet%22%20href%3D%22https%3A//cdnjs.cloudflare.com/ajax/libs/leaflet.fullscreen/1.4.2/Control.FullScreen.min.css%22/%3E%0A%3C/head%3E%0A%3Cbody%3E%20%20%20%20%0A%20%20%20%20%0A%20%20%20%20%20%20%20%20%20%20%20%20%3Cdiv%20class%3D%22folium-map%22%20id%3D%22map_e82cb0592b1c4b20b4c467cc7c8e8206%22%20%3E%3C/div%3E%0A%20%20%20%20%20%20%20%20%0A%3C/body%3E%0A%3Cscript%3E%20%20%20%20%0A%20%20%20%20%0A%20%20%20%20%20%20%20%20%20%20%20%20var%20map_e82cb0592b1c4b20b4c467cc7c8e8206%20%3D%20L.map%28%0A%20%20%20%20%20%20%20%20%20%20%20%20%20%20%20%20%22map_e82cb0592b1c4b20b4c467cc7c8e8206%22%2C%0A%20%20%20%20%20%20%20%20%20%20%20%20%20%20%20%20%7B%0A%20%20%20%20%20%20%20%20%20%20%20%20%20%20%20%20%20%20%20%20center%3A%20%5B40.0%2C%20-100.0%5D%2C%0A%20%20%20%20%20%20%20%20%20%20%20%20%20%20%20%20%20%20%20%20crs%3A%20L.CRS.EPSG3857%2C%0A%20%20%20%20%20%20%20%20%20%20%20%20%20%20%20%20%20%20%20%20zoom%3A%204%2C%0A%20%20%20%20%20%20%20%20%20%20%20%20%20%20%20%20%20%20%20%20zoomControl%3A%20true%2C%0A%20%20%20%20%20%20%20%20%20%20%20%20%20%20%20%20%20%20%20%20preferCanvas%3A%20false%2C%0A%20%20%20%20%20%20%20%20%20%20%20%20%20%20%20%20%20%20%20%20eeInitialize%3A%20true%2C%0A%20%20%20%20%20%20%20%20%20%20%20%20%20%20%20%20%20%20%20%20addGoogleMap%3A%20true%2C%0A%20%20%20%20%20%20%20%20%20%20%20%20%20%20%20%20%20%20%20%20pluginLatlngpopup%3A%20true%2C%0A%20%20%20%20%20%20%20%20%20%20%20%20%20%20%20%20%20%20%20%20pluginFullscreen%3A%20true%2C%0A%20%20%20%20%20%20%20%20%20%20%20%20%20%20%20%20%20%20%20%20pluginDraw%3A%20false%2C%0A%20%20%20%20%20%20%20%20%20%20%20%20%20%20%20%20%20%20%20%20DrawExport%3A%20true%2C%0A%20%20%20%20%20%20%20%20%20%20%20%20%20%20%20%20%20%20%20%20pluginMinimap%3A%20false%2C%0A%20%20%20%20%20%20%20%20%20%20%20%20%20%20%20%20%20%20%20%20pluginLayercontrol%3A%20false%2C%0A%20%20%20%20%20%20%20%20%20%20%20%20%20%20%20%20%7D%0A%20%20%20%20%20%20%20%20%20%20%20%20%29%3B%0A%0A%20%20%20%20%20%20%20%20%20%20%20%20%0A%0A%20%20%20%20%20%20%20%20%0A%20%20%20%20%0A%20%20%20%20%20%20%20%20%20%20%20%20var%20tile_layer_4409e7af7bab43e49b2bde3f6c3bf0bd%20%3D%20L.tileLayer%28%0A%20%20%20%20%20%20%20%20%20%20%20%20%20%20%20%20%22https%3A//%7Bs%7D.tile.openstreetmap.org/%7Bz%7D/%7Bx%7D/%7By%7D.png%22%2C%0A%20%20%20%20%20%20%20%20%20%20%20%20%20%20%20%20%7B%22attribution%22%3A%20%22Data%20by%20%5Cu0026copy%3B%20%5Cu003ca%20href%3D%5C%22http%3A//openstreetmap.org%5C%22%5Cu003eOpenStreetMap%5Cu003c/a%5Cu003e%2C%20under%20%5Cu003ca%20href%3D%5C%22http%3A//www.openstreetmap.org/copyright%5C%22%5Cu003eODbL%5Cu003c/a%5Cu003e.%22%2C%20%22detectRetina%22%3A%20false%2C%20%22maxNativeZoom%22%3A%2018%2C%20%22maxZoom%22%3A%2018%2C%20%22minZoom%22%3A%200%2C%20%22noWrap%22%3A%20false%2C%20%22opacity%22%3A%201%2C%20%22subdomains%22%3A%20%22abc%22%2C%20%22tms%22%3A%20false%7D%0A%20%20%20%20%20%20%20%20%20%20%20%20%29.addTo%28map_e82cb0592b1c4b20b4c467cc7c8e8206%29%3B%0A%20%20%20%20%20%20%20%20%0A%20%20%20%20%0A%20%20%20%20%20%20%20%20%20%20%20%20var%20tile_layer_f0a5f2d070fc4d8db33b8b9895c309f2%20%3D%20L.tileLayer%28%0A%20%20%20%20%20%20%20%20%20%20%20%20%20%20%20%20%22https%3A//mt1.google.com/vt/lyrs%3Dm%5Cu0026x%3D%7Bx%7D%5Cu0026y%3D%7By%7D%5Cu0026z%3D%7Bz%7D%22%2C%0A%20%20%20%20%20%20%20%20%20%20%20%20%20%20%20%20%7B%22attribution%22%3A%20%22Google%22%2C%20%22detectRetina%22%3A%20false%2C%20%22maxNativeZoom%22%3A%2018%2C%20%22maxZoom%22%3A%2018%2C%20%22minZoom%22%3A%200%2C%20%22noWrap%22%3A%20false%2C%20%22opacity%22%3A%201%2C%20%22subdomains%22%3A%20%22abc%22%2C%20%22tms%22%3A%20false%7D%0A%20%20%20%20%20%20%20%20%20%20%20%20%29.addTo%28map_e82cb0592b1c4b20b4c467cc7c8e8206%29%3B%0A%20%20%20%20%20%20%20%20%0A%20%20%20%20%0A%20%20%20%20%20%20%20%20%20%20%20%20%20%20%20%20var%20lat_lng_popup_13149203a4bd44d1b272b72b2d51f311%20%3D%20L.popup%28%29%3B%0A%20%20%20%20%20%20%20%20%20%20%20%20%20%20%20%20function%20latLngPop%28e%29%20%7B%0A%20%20%20%20%20%20%20%20%20%20%20%20%20%20%20%20%20%20%20%20lat_lng_popup_13149203a4bd44d1b272b72b2d51f311%0A%20%20%20%20%20%20%20%20%20%20%20%20%20%20%20%20%20%20%20%20%20%20%20%20.setLatLng%28e.latlng%29%0A%20%20%20%20%20%20%20%20%20%20%20%20%20%20%20%20%20%20%20%20%20%20%20%20.setContent%28%22Latitude%3A%20%22%20%2B%20e.latlng.lat.toFixed%284%29%20%2B%0A%20%20%20%20%20%20%20%20%20%20%20%20%20%20%20%20%20%20%20%20%20%20%20%20%20%20%20%20%20%20%20%20%20%20%20%20%22%3Cbr%3ELongitude%3A%20%22%20%2B%20e.latlng.lng.toFixed%284%29%29%0A%20%20%20%20%20%20%20%20%20%20%20%20%20%20%20%20%20%20%20%20%20%20%20%20.openOn%28map_e82cb0592b1c4b20b4c467cc7c8e8206%29%3B%0A%20%20%20%20%20%20%20%20%20%20%20%20%20%20%20%20%20%20%20%20%7D%0A%20%20%20%20%20%20%20%20%20%20%20%20%20%20%20%20map_e82cb0592b1c4b20b4c467cc7c8e8206.on%28%27click%27%2C%20latLngPop%29%3B%0A%20%20%20%20%20%20%20%20%20%20%20%20%0A%20%20%20%20%0A%20%20%20%20%20%20%20%20%20%20%20%20L.control.fullscreen%28%0A%20%20%20%20%20%20%20%20%20%20%20%20%20%20%20%20%7B%22forceSeparateButton%22%3A%20false%2C%20%22position%22%3A%20%22topleft%22%2C%20%22title%22%3A%20%22Full%20Screen%22%2C%20%22titleCancel%22%3A%20%22Exit%20Full%20Screen%22%7D%0A%20%20%20%20%20%20%20%20%20%20%20%20%29.addTo%28map_e82cb0592b1c4b20b4c467cc7c8e8206%29%3B%0A%20%20%20%20%20%20%20%20%0A%20%20%20%20%0A%20%20%20%20%20%20%20%20%20%20%20%20map_e82cb0592b1c4b20b4c467cc7c8e8206.fitBounds%28%0A%20%20%20%20%20%20%20%20%20%20%20%20%20%20%20%20%5B%5B40%2C%20-100%5D%2C%20%5B40%2C%20-100%5D%5D%2C%0A%20%20%20%20%20%20%20%20%20%20%20%20%20%20%20%20%7B%22maxZoom%22%3A%204%7D%0A%20%20%20%20%20%20%20%20%20%20%20%20%29%3B%0A%20%20%20%20%20%20%20%20%0A%20%20%20%20%0A%20%20%20%20%20%20%20%20%20%20%20%20var%20tile_layer_1c1425d7c5804cffb6cea4409270cb6d%20%3D%20L.tileLayer%28%0A%20%20%20%20%20%20%20%20%20%20%20%20%20%20%20%20%22https%3A//earthengine.googleapis.com/v1alpha/projects/earthengine-legacy/maps/9ef51d0b86ee16f8cdc833f8f7ad4bd8-0b076f4e2952cf0d19eaeedc4970c0f5/tiles/%7Bz%7D/%7Bx%7D/%7By%7D%22%2C%0A%20%20%20%20%20%20%20%20%20%20%20%20%20%20%20%20%7B%22attribution%22%3A%20%22Google%20Earth%20Engine%22%2C%20%22detectRetina%22%3A%20false%2C%20%22maxNativeZoom%22%3A%2018%2C%20%22maxZoom%22%3A%2018%2C%20%22minZoom%22%3A%200%2C%20%22noWrap%22%3A%20false%2C%20%22opacity%22%3A%201.0%2C%20%22subdomains%22%3A%20%22abc%22%2C%20%22tms%22%3A%20false%7D%0A%20%20%20%20%20%20%20%20%20%20%20%20%29.addTo%28map_e82cb0592b1c4b20b4c467cc7c8e8206%29%3B%0A%20%20%20%20%20%20%20%20%0A%20%20%20%20%0A%20%20%20%20%20%20%20%20%20%20%20%20map_e82cb0592b1c4b20b4c467cc7c8e8206.fitBounds%28%0A%20%20%20%20%20%20%20%20%20%20%20%20%20%20%20%20%5B%5B37.75456641039289%2C%20-113.81647898558589%5D%2C%20%5B37.75456641039289%2C%20-113.81647898558589%5D%5D%2C%0A%20%20%20%20%20%20%20%20%20%20%20%20%20%20%20%20%7B%22maxZoom%22%3A%2016%7D%0A%20%20%20%20%20%20%20%20%20%20%20%20%29%3B%0A%20%20%20%20%20%20%20%20%0A%20%20%20%20%0A%20%20%20%20%20%20%20%20%20%20%20%20var%20layer_control_0e5de2a2bcb64abb898e9d8114df8517%20%3D%20%7B%0A%20%20%20%20%20%20%20%20%20%20%20%20%20%20%20%20base_layers%20%3A%20%7B%0A%20%20%20%20%20%20%20%20%20%20%20%20%20%20%20%20%20%20%20%20%22openstreetmap%22%20%3A%20tile_layer_4409e7af7bab43e49b2bde3f6c3bf0bd%2C%0A%20%20%20%20%20%20%20%20%20%20%20%20%20%20%20%20%7D%2C%0A%20%20%20%20%20%20%20%20%20%20%20%20%20%20%20%20overlays%20%3A%20%20%7B%0A%20%20%20%20%20%20%20%20%20%20%20%20%20%20%20%20%20%20%20%20%22Google%20Maps%22%20%3A%20tile_layer_f0a5f2d070fc4d8db33b8b9895c309f2%2C%0A%20%20%20%20%20%20%20%20%20%20%20%20%20%20%20%20%20%20%20%20%22pivot%22%20%3A%20tile_layer_1c1425d7c5804cffb6cea4409270cb6d%2C%0A%20%20%20%20%20%20%20%20%20%20%20%20%20%20%20%20%7D%2C%0A%20%20%20%20%20%20%20%20%20%20%20%20%7D%3B%0A%20%20%20%20%20%20%20%20%20%20%20%20L.control.layers%28%0A%20%20%20%20%20%20%20%20%20%20%20%20%20%20%20%20layer_control_0e5de2a2bcb64abb898e9d8114df8517.base_layers%2C%0A%20%20%20%20%20%20%20%20%20%20%20%20%20%20%20%20layer_control_0e5de2a2bcb64abb898e9d8114df8517.overlays%2C%0A%20%20%20%20%20%20%20%20%20%20%20%20%20%20%20%20%7B%22autoZIndex%22%3A%20true%2C%20%22collapsed%22%3A%20true%2C%20%22position%22%3A%20%22topright%22%7D%0A%20%20%20%20%20%20%20%20%20%20%20%20%29.addTo%28map_e82cb0592b1c4b20b4c467cc7c8e8206%29%3B%0A%20%20%20%20%20%20%20%20%0A%3C/script%3E onload=\"this.contentDocument.open();this.contentDocument.write(    decodeURIComponent(this.getAttribute('data-html')));this.contentDocument.close();\" allowfullscreen webkitallowfullscreen mozallowfullscreen></iframe></div></div>"
            ],
            "text/plain": [
              "<geemap.foliumap.Map at 0x7fbc0da7d3d0>"
            ]
          },
          "metadata": {
            "tags": []
          },
          "execution_count": 18
        }
      ]
    },
    {
      "cell_type": "markdown",
      "metadata": {
        "id": "5734b433-7727-409f-ba44-03fef7fbd65f"
      },
      "source": [
        "## 4. Pre - process and process image collection"
      ],
      "id": "5734b433-7727-409f-ba44-03fef7fbd65f"
    },
    {
      "cell_type": "code",
      "metadata": {
        "id": "f4deaa37-f62e-4657-b03f-2cd88ff91371"
      },
      "source": [
        "S2 = (ee.ImageCollection('COPERNICUS/S2_SR')\n",
        "     .filterBounds(pivot)\n",
        "     .scaleAndOffset()\n",
        "     .maskClouds()\n",
        "     .filterDate('2017-04-01', '2021-07-01')\n",
        "     .spectralIndices(['NDVI'])\n",
        "    )"
      ],
      "id": "f4deaa37-f62e-4657-b03f-2cd88ff91371",
      "execution_count": null,
      "outputs": []
    },
    {
      "cell_type": "markdown",
      "metadata": {
        "id": "e99a2c67-06c9-4083-a0cc-0252bd565831"
      },
      "source": [
        "## 5. Normalized Difference Vegetation Index "
      ],
      "id": "e99a2c67-06c9-4083-a0cc-0252bd565831"
    },
    {
      "cell_type": "code",
      "metadata": {
        "id": "e0abac6f-3a92-434b-89b6-365279ff58c2"
      },
      "source": [
        "collection = S2.select(\"NDVI\")"
      ],
      "id": "e0abac6f-3a92-434b-89b6-365279ff58c2",
      "execution_count": null,
      "outputs": []
    },
    {
      "cell_type": "markdown",
      "metadata": {
        "id": "cc961118-56bd-4a78-99ce-93c010bc9f1f"
      },
      "source": [
        "NOTE check eemont repository for examples of maskCLouds, scale, and application of vegetation indexes. https://eemont.readthedocs.io/en/latest/guide/spectralIndices.html"
      ],
      "id": "cc961118-56bd-4a78-99ce-93c010bc9f1f"
    },
    {
      "cell_type": "markdown",
      "metadata": {
        "id": "3efe3269-2007-4927-9680-fed54bf05774"
      },
      "source": [
        "## 6 Time Series  By regions "
      ],
      "id": "3efe3269-2007-4927-9680-fed54bf05774"
    },
    {
      "cell_type": "code",
      "metadata": {
        "id": "4a002da3"
      },
      "source": [
        "ts = S2.getTimeSeriesByRegions(collection = pivot,\n",
        "                               bands = ['NDVI'],\n",
        "                               reducer = [ee.Reducer.mean(),ee.Reducer.median()],\n",
        "                               scale = 10)"
      ],
      "id": "4a002da3",
      "execution_count": null,
      "outputs": []
    },
    {
      "cell_type": "code",
      "metadata": {
        "id": "fa655dd7"
      },
      "source": [
        "# Conversion to Pandas\n",
        "tsPandas = geemap.ee_to_pandas(ts)"
      ],
      "id": "fa655dd7",
      "execution_count": null,
      "outputs": []
    },
    {
      "cell_type": "code",
      "metadata": {
        "colab": {
          "base_uri": "https://localhost:8080/"
        },
        "id": "f809b89b",
        "outputId": "a62038f7-80a0-49df-ffa3-4d74a7ee74b6"
      },
      "source": [
        "tsPandas"
      ],
      "id": "f809b89b",
      "execution_count": null,
      "outputs": [
        {
          "output_type": "execute_result",
          "data": {
            "text/html": [
              "<div>\n",
              "<style scoped>\n",
              "    .dataframe tbody tr th:only-of-type {\n",
              "        vertical-align: middle;\n",
              "    }\n",
              "\n",
              "    .dataframe tbody tr th {\n",
              "        vertical-align: top;\n",
              "    }\n",
              "\n",
              "    .dataframe thead th {\n",
              "        text-align: right;\n",
              "    }\n",
              "</style>\n",
              "<table border=\"1\" class=\"dataframe\">\n",
              "  <thead>\n",
              "    <tr style=\"text-align: right;\">\n",
              "      <th></th>\n",
              "      <th>NDVI</th>\n",
              "      <th>date</th>\n",
              "      <th>pivot</th>\n",
              "      <th>reducer</th>\n",
              "    </tr>\n",
              "  </thead>\n",
              "  <tbody>\n",
              "    <tr>\n",
              "      <th>0</th>\n",
              "      <td>-9999.000000</td>\n",
              "      <td>2018-12-17T18:33:49</td>\n",
              "      <td>0</td>\n",
              "      <td>mean</td>\n",
              "    </tr>\n",
              "    <tr>\n",
              "      <th>1</th>\n",
              "      <td>-9999.000000</td>\n",
              "      <td>2018-12-17T18:33:48</td>\n",
              "      <td>0</td>\n",
              "      <td>mean</td>\n",
              "    </tr>\n",
              "    <tr>\n",
              "      <th>2</th>\n",
              "      <td>0.113087</td>\n",
              "      <td>2018-12-22T18:33:47</td>\n",
              "      <td>0</td>\n",
              "      <td>mean</td>\n",
              "    </tr>\n",
              "    <tr>\n",
              "      <th>3</th>\n",
              "      <td>0.098203</td>\n",
              "      <td>2018-12-22T18:33:46</td>\n",
              "      <td>0</td>\n",
              "      <td>mean</td>\n",
              "    </tr>\n",
              "    <tr>\n",
              "      <th>4</th>\n",
              "      <td>0.003646</td>\n",
              "      <td>2018-12-27T18:33:51</td>\n",
              "      <td>0</td>\n",
              "      <td>mean</td>\n",
              "    </tr>\n",
              "    <tr>\n",
              "      <th>...</th>\n",
              "      <td>...</td>\n",
              "      <td>...</td>\n",
              "      <td>...</td>\n",
              "      <td>...</td>\n",
              "    </tr>\n",
              "    <tr>\n",
              "      <th>729</th>\n",
              "      <td>-9999.000000</td>\n",
              "      <td>2021-06-19T18:33:55</td>\n",
              "      <td>0</td>\n",
              "      <td>median</td>\n",
              "    </tr>\n",
              "    <tr>\n",
              "      <th>730</th>\n",
              "      <td>-9999.000000</td>\n",
              "      <td>2021-06-19T18:33:54</td>\n",
              "      <td>0</td>\n",
              "      <td>median</td>\n",
              "    </tr>\n",
              "    <tr>\n",
              "      <th>731</th>\n",
              "      <td>-9999.000000</td>\n",
              "      <td>2021-06-24T18:33:55</td>\n",
              "      <td>0</td>\n",
              "      <td>median</td>\n",
              "    </tr>\n",
              "    <tr>\n",
              "      <th>732</th>\n",
              "      <td>0.296269</td>\n",
              "      <td>2021-06-29T18:33:57</td>\n",
              "      <td>0</td>\n",
              "      <td>median</td>\n",
              "    </tr>\n",
              "    <tr>\n",
              "      <th>733</th>\n",
              "      <td>0.297644</td>\n",
              "      <td>2021-06-29T18:33:55</td>\n",
              "      <td>0</td>\n",
              "      <td>median</td>\n",
              "    </tr>\n",
              "  </tbody>\n",
              "</table>\n",
              "<p>734 rows × 4 columns</p>\n",
              "</div>"
            ],
            "text/plain": [
              "            NDVI                 date  pivot reducer\n",
              "0   -9999.000000  2018-12-17T18:33:49      0    mean\n",
              "1   -9999.000000  2018-12-17T18:33:48      0    mean\n",
              "2       0.113087  2018-12-22T18:33:47      0    mean\n",
              "3       0.098203  2018-12-22T18:33:46      0    mean\n",
              "4       0.003646  2018-12-27T18:33:51      0    mean\n",
              "..           ...                  ...    ...     ...\n",
              "729 -9999.000000  2021-06-19T18:33:55      0  median\n",
              "730 -9999.000000  2021-06-19T18:33:54      0  median\n",
              "731 -9999.000000  2021-06-24T18:33:55      0  median\n",
              "732     0.296269  2021-06-29T18:33:57      0  median\n",
              "733     0.297644  2021-06-29T18:33:55      0  median\n",
              "\n",
              "[734 rows x 4 columns]"
            ]
          },
          "metadata": {
            "tags": []
          },
          "execution_count": 23
        }
      ]
    },
    {
      "cell_type": "markdown",
      "metadata": {
        "id": "2566739b"
      },
      "source": [
        "What can we see here?\n",
        "\n",
        "- There are some -9999 values in the NDVI column. These values represent the NA values (e.g. Clouds or shadows). The -9999 can be changed by modifying the `naValue` parameter in the `getTimeSeriesByRegion` method (e.g. `naValue = -10000`).\n",
        "- Multiple reducers can be used. In the output dataframe they are specified by a single column named `reducer`: mean, median.\n",
        "- The date is a string that needs to be converted to a date data type.\n",
        "- The attributes of the original feature collection are attached to the data frame: `pivot`.\n",
        "\n",
        "Given this, let's curate our data frame!"
      ],
      "id": "2566739b"
    },
    {
      "cell_type": "markdown",
      "metadata": {
        "id": "f2de921b"
      },
      "source": [
        "First, let's get rid of the -9999 value:"
      ],
      "id": "f2de921b"
    },
    {
      "cell_type": "code",
      "metadata": {
        "id": "a7415ee2"
      },
      "source": [
        "tsPandas[tsPandas == -9999] = np.nan"
      ],
      "id": "a7415ee2",
      "execution_count": null,
      "outputs": []
    },
    {
      "cell_type": "markdown",
      "metadata": {
        "id": "4a9f8a2a"
      },
      "source": [
        "And now, let's convert the date to a date data type:"
      ],
      "id": "4a9f8a2a"
    },
    {
      "cell_type": "code",
      "metadata": {
        "id": "fb178aba"
      },
      "source": [
        "tsPandas['date'] = pd.to_datetime(tsPandas['date'],infer_datetime_format = True)"
      ],
      "id": "fb178aba",
      "execution_count": null,
      "outputs": []
    },
    {
      "cell_type": "code",
      "metadata": {
        "id": "00f70fd2"
      },
      "source": [
        "tsPandas = pd.melt(tsPandas,\n",
        "                   id_vars = ['reducer','date','pivot'],\n",
        "                   value_vars = ['NDVI'],\n",
        "                   var_name = 'Index',\n",
        "                   value_name = 'Value')"
      ],
      "id": "00f70fd2",
      "execution_count": null,
      "outputs": []
    },
    {
      "cell_type": "code",
      "metadata": {
        "colab": {
          "base_uri": "https://localhost:8080/"
        },
        "id": "8cf1460e",
        "outputId": "3d32e955-a1d9-427e-9fe1-97586b9239dc"
      },
      "source": [
        "# tsPandas[tsPandas['Value'] > 1] = np.nan\n",
        "tsPandas[tsPandas['Value'] < -0.5] = np.nan\n",
        "\n",
        "tsPandas"
      ],
      "id": "8cf1460e",
      "execution_count": null,
      "outputs": [
        {
          "output_type": "execute_result",
          "data": {
            "text/html": [
              "<div>\n",
              "<style scoped>\n",
              "    .dataframe tbody tr th:only-of-type {\n",
              "        vertical-align: middle;\n",
              "    }\n",
              "\n",
              "    .dataframe tbody tr th {\n",
              "        vertical-align: top;\n",
              "    }\n",
              "\n",
              "    .dataframe thead th {\n",
              "        text-align: right;\n",
              "    }\n",
              "</style>\n",
              "<table border=\"1\" class=\"dataframe\">\n",
              "  <thead>\n",
              "    <tr style=\"text-align: right;\">\n",
              "      <th></th>\n",
              "      <th>reducer</th>\n",
              "      <th>date</th>\n",
              "      <th>pivot</th>\n",
              "      <th>Index</th>\n",
              "      <th>Value</th>\n",
              "    </tr>\n",
              "  </thead>\n",
              "  <tbody>\n",
              "    <tr>\n",
              "      <th>0</th>\n",
              "      <td>mean</td>\n",
              "      <td>2018-12-17 18:33:49</td>\n",
              "      <td>0.0</td>\n",
              "      <td>NDVI</td>\n",
              "      <td>NaN</td>\n",
              "    </tr>\n",
              "    <tr>\n",
              "      <th>1</th>\n",
              "      <td>mean</td>\n",
              "      <td>2018-12-17 18:33:48</td>\n",
              "      <td>0.0</td>\n",
              "      <td>NDVI</td>\n",
              "      <td>NaN</td>\n",
              "    </tr>\n",
              "    <tr>\n",
              "      <th>2</th>\n",
              "      <td>mean</td>\n",
              "      <td>2018-12-22 18:33:47</td>\n",
              "      <td>0.0</td>\n",
              "      <td>NDVI</td>\n",
              "      <td>0.113087</td>\n",
              "    </tr>\n",
              "    <tr>\n",
              "      <th>3</th>\n",
              "      <td>mean</td>\n",
              "      <td>2018-12-22 18:33:46</td>\n",
              "      <td>0.0</td>\n",
              "      <td>NDVI</td>\n",
              "      <td>0.098203</td>\n",
              "    </tr>\n",
              "    <tr>\n",
              "      <th>4</th>\n",
              "      <td>mean</td>\n",
              "      <td>2018-12-27 18:33:51</td>\n",
              "      <td>0.0</td>\n",
              "      <td>NDVI</td>\n",
              "      <td>0.003646</td>\n",
              "    </tr>\n",
              "    <tr>\n",
              "      <th>...</th>\n",
              "      <td>...</td>\n",
              "      <td>...</td>\n",
              "      <td>...</td>\n",
              "      <td>...</td>\n",
              "      <td>...</td>\n",
              "    </tr>\n",
              "    <tr>\n",
              "      <th>729</th>\n",
              "      <td>median</td>\n",
              "      <td>2021-06-19 18:33:55</td>\n",
              "      <td>0.0</td>\n",
              "      <td>NDVI</td>\n",
              "      <td>NaN</td>\n",
              "    </tr>\n",
              "    <tr>\n",
              "      <th>730</th>\n",
              "      <td>median</td>\n",
              "      <td>2021-06-19 18:33:54</td>\n",
              "      <td>0.0</td>\n",
              "      <td>NDVI</td>\n",
              "      <td>NaN</td>\n",
              "    </tr>\n",
              "    <tr>\n",
              "      <th>731</th>\n",
              "      <td>median</td>\n",
              "      <td>2021-06-24 18:33:55</td>\n",
              "      <td>0.0</td>\n",
              "      <td>NDVI</td>\n",
              "      <td>NaN</td>\n",
              "    </tr>\n",
              "    <tr>\n",
              "      <th>732</th>\n",
              "      <td>median</td>\n",
              "      <td>2021-06-29 18:33:57</td>\n",
              "      <td>0.0</td>\n",
              "      <td>NDVI</td>\n",
              "      <td>0.296269</td>\n",
              "    </tr>\n",
              "    <tr>\n",
              "      <th>733</th>\n",
              "      <td>median</td>\n",
              "      <td>2021-06-29 18:33:55</td>\n",
              "      <td>0.0</td>\n",
              "      <td>NDVI</td>\n",
              "      <td>0.297644</td>\n",
              "    </tr>\n",
              "  </tbody>\n",
              "</table>\n",
              "<p>734 rows × 5 columns</p>\n",
              "</div>"
            ],
            "text/plain": [
              "    reducer                date  pivot Index     Value\n",
              "0      mean 2018-12-17 18:33:49    0.0  NDVI       NaN\n",
              "1      mean 2018-12-17 18:33:48    0.0  NDVI       NaN\n",
              "2      mean 2018-12-22 18:33:47    0.0  NDVI  0.113087\n",
              "3      mean 2018-12-22 18:33:46    0.0  NDVI  0.098203\n",
              "4      mean 2018-12-27 18:33:51    0.0  NDVI  0.003646\n",
              "..      ...                 ...    ...   ...       ...\n",
              "729  median 2021-06-19 18:33:55    0.0  NDVI       NaN\n",
              "730  median 2021-06-19 18:33:54    0.0  NDVI       NaN\n",
              "731  median 2021-06-24 18:33:55    0.0  NDVI       NaN\n",
              "732  median 2021-06-29 18:33:57    0.0  NDVI  0.296269\n",
              "733  median 2021-06-29 18:33:55    0.0  NDVI  0.297644\n",
              "\n",
              "[734 rows x 5 columns]"
            ]
          },
          "metadata": {
            "tags": []
          },
          "execution_count": 27
        }
      ]
    },
    {
      "cell_type": "markdown",
      "metadata": {
        "id": "4df0142b-fefe-4012-8c68-0f5adca0d65d"
      },
      "source": [
        "## 7. Visualization"
      ],
      "id": "4df0142b-fefe-4012-8c68-0f5adca0d65d"
    },
    {
      "cell_type": "markdown",
      "metadata": {
        "id": "1305cd29"
      },
      "source": [
        "Now, let's visualize our time series using `seaborn`:"
      ],
      "id": "1305cd29"
    },
    {
      "cell_type": "code",
      "metadata": {
        "colab": {
          "base_uri": "https://localhost:8080/"
        },
        "id": "655c999c",
        "outputId": "0a8ef1f5-59aa-4047-b2f7-bc2be203cf16"
      },
      "source": [
        "g = sns.FacetGrid(tsPandas,row = 'pivot',height = 3,aspect = 4)\n",
        "g.map_dataframe(sns.lineplot,x = 'date',y = 'Value',hue = 'Index',style = 'reducer')\n",
        "g.add_legend()"
      ],
      "id": "655c999c",
      "execution_count": null,
      "outputs": [
        {
          "output_type": "execute_result",
          "data": {
            "text/plain": [
              "<seaborn.axisgrid.FacetGrid at 0x7fbc0d5d92d0>"
            ]
          },
          "metadata": {
            "tags": []
          },
          "execution_count": 28
        },
        {
          "output_type": "display_data",
          "data": {
            "image/png": "[encoded data removed]",
            "text/plain": [
              "<Figure size 938.5x216 with 1 Axes>"
            ]
          },
          "metadata": {
            "tags": [],
            "needs_background": "light"
          }
        }
      ]
    }
  ]
}